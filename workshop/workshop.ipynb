{
 "cells": [
  {
   "cell_type": "markdown",
   "id": "07d55cde",
   "metadata": {
    "vscode": {
     "languageId": "plaintext"
    }
   },
   "source": [
    "# Workshop MQTT - IoT\n",
    "## Taller práctico de MQTT aplicado a IoT\n",
    "\n",
    "### Objetivo del Taller\n",
    "Ofrecer a los participantes una comprensión fundamental de los protocolos de comunicación en el Internet de las Cosas (IoT), con un enfoque práctico en MQTT. Al finalizar, los asistentes podrán entender la arquitectura de MQTT, sus componentes principales y cómo implementar una comunicación básica entre dispositivos utilizando Python."
   ]
  },
  {
   "cell_type": "markdown",
   "id": "6170954c",
   "metadata": {},
   "source": [
    "## 1. Preparación del Taller \n",
    "\n",
    "Llegado a este punto, ya deberías haber ejecutado los comandos de los archivos `README.md` y `Containers.md`, con lo cual deberías tener 3 contenedores corriendo en tu máquina local.\n",
    "\n",
    "Puedes verificar que los contenedores están corriendo ejecutando el siguiente commando en la terminal de tu computadora:"
   ]
  },
  {
   "cell_type": "markdown",
   "id": "411c86f2",
   "metadata": {},
   "source": [
    "<hr> \n",
    "\n",
    "```bash\n",
    "docker ps\n",
    "```\n",
    "\n",
    "<hr>"
   ]
  },
  {
   "cell_type": "markdown",
   "id": "9b3a383c",
   "metadata": {},
   "source": [
    "Deberías ver algo similar a esto:\n",
    "<hr>\n",
    "\n",
    "```text\n",
    "CONTAINER ID   IMAGE                           ...   PORTS                                         NAMES\n",
    "323c7c94d561   jupyter/scipy-notebook:latest   ...   0.0.0.0:8888->8888/tcp, [::]:8888->8888/tcp   jlab\n",
    "2a56c3f7f377   nodered/node-red:latest         ...   0.0.0.0:1880->1880/tcp, [::]:1880->1880/tcp   nodered\n",
    "c1322f110427   eclipse-mosquitto               ...   0.0.0.0:1883->1883/tcp, [::]:1883->1883/tcp   mosquitto\n",
    "```\n",
    "\n",
    "<hr>\n",
    "Para este laboratorio, estaremos utilizando el broker MQTT de Eclipse Mosquitto, pero puedes elegir cualquier otro broker de tu preferencia, por ejemplo:\n",
    "\n",
    "- [Eclipse Mosquitto](https://mosquitto.org/): Un broker MQTT de código abierto y ligero.\n",
    "- [HiveMQ](https://www.hivemq.com/): Un broker MQTT comercial que ofrece una versión comunitaria.\n",
    "- [EMQX](https://www.emqx.io/): Un broker MQTT escalable y de alto rendimiento.\n",
    "- [NanoMQ](https://nanomq.io/): Un broker MQTT ultraligero diseñado para dispositivos IoT."
   ]
  },
  {
   "cell_type": "markdown",
   "id": "cc4b9ec9",
   "metadata": {},
   "source": [
    "## 2. Preparación del Entorno Python\n",
    "\n",
    "Para este taller ocupamos algunas dependencias de Python, para trabajar con el protocolo MQTT. Para instalarlas todas las dependencias dejaremos que el comando `pip` lea el archivo e instale todo lo necesario.\n",
    "\n",
    "Ejecuta el siguiente bloque."
   ]
  },
  {
   "cell_type": "code",
   "execution_count": null,
   "id": "b5205af6",
   "metadata": {},
   "outputs": [],
   "source": [
    "%pip install paho-mqtt"
   ]
  },
  {
   "cell_type": "markdown",
   "id": "653ccade",
   "metadata": {},
   "source": [
    "## 2. Manos a la obra"
   ]
  },
  {
   "cell_type": "markdown",
   "id": "aa82953c",
   "metadata": {},
   "source": [
    "### 2.1. Variables de Entorno\n",
    "\n",
    "Definiremos las siguientes variables que usaremos en los siguientes códigos, debes ejecutar el siguiente bloque de código para definirlas en el kernel de Jupyter."
   ]
  },
  {
   "cell_type": "code",
   "execution_count": null,
   "id": "dd4b01c0",
   "metadata": {},
   "outputs": [],
   "source": [
    "BROKER_ADDRESS = \"mosquitto\"  # Dirección del broker MQTT\n",
    "USERNAME = \"nodered\"          # Usuario para autenticación\n",
    "PASSWORD = \"nodered\"          # Contraseña para autenticación\n",
    "PORT = 1883                   # Puerto del broker MQTT\n",
    "QOS_LEVEL = 2                 # Quality of Service, 0 = At most once, 1 = At least once, 2 = Exactly once\n",
    "TOPIC = \"iot/workshop/sensor/sala1\" # Tópico base"
   ]
  },
  {
   "cell_type": "markdown",
   "id": "7ee31053-db0f-41e9-8ec9-815e54f0a993",
   "metadata": {},
   "source": [
    "### 2.2. Importación de Librerías\n",
    "\n",
    "Importaremos en el siguiente bloque las librerías requeridas de Python que se requieren para los siguientes bloques de código, por favor ejecuta lo siguiente para cargarlas en el kernel de Jupyter"
   ]
  },
  {
   "cell_type": "code",
   "execution_count": null,
   "id": "39a6ea7a-4b3a-4bea-aed0-8555da0121b5",
   "metadata": {},
   "outputs": [],
   "source": [
    "# Librería para conexión MQTT\n",
    "import paho.mqtt.client as mqtt\n",
    "from paho.mqtt.enums import CallbackAPIVersion\n",
    "\n",
    "# Librería para gestión de Tiempo\n",
    "import time\n",
    "\n",
    "# Librería para manejo de cadenas JSON\n",
    "import json\n",
    "\n",
    "# Añadir path para modulos del workshop\n",
    "import sys\n",
    "sys.path.append('/home/jovyan/work')"
   ]
  },
  {
   "cell_type": "markdown",
   "id": "a23398f1",
   "metadata": {},
   "source": [
    "### 2.3. Enviar un mensaje a MQTT\n",
    "\n",
    "El siguiente bloque de código muestra un ejemplo para enviar un mensaje al broker MQTT en el topic `iot/workshop/sensor/sala1/temperatura`. El bloque enviará un único mensaje, pero puedes ejecutar el bloque las veces que desees. Recuerda mantener el MQTT Explorer abierto para observar los mensajes que se publican.\n",
    "\n",
    "En el MQTT Explorer, te puedes suscribir al topic `iot/workshop/sensor/sala1/#` para ver todos los mensajes publicados en los subtopics de `sala1`, el caracter `#` es un comodín que indica \"todos los subtopics\"."
   ]
  },
  {
   "cell_type": "code",
   "execution_count": null,
   "id": "7e6c265f",
   "metadata": {},
   "outputs": [],
   "source": [
    "# Inicialización del cliente MQTT, en versión MQTT 5\n",
    "client = mqtt.Client(\n",
    "    protocol=mqtt.MQTTv5,\n",
    "    callback_api_version=CallbackAPIVersion.VERSION2\n",
    ")\n",
    "\n",
    "# Establecimiento de credenciales del broker\n",
    "client.username_pw_set(username=USERNAME, password=PASSWORD)"
   ]
  },
  {
   "cell_type": "code",
   "execution_count": null,
   "id": "0fb687f8",
   "metadata": {},
   "outputs": [],
   "source": [
    "# Conexión al broker MQTT\n",
    "client.connect(\n",
    "    host=BROKER_ADDRESS, \n",
    "    port=PORT,\n",
    "    keepalive=60\n",
    ")\n",
    "\n",
    "# Iniciar el loop para procesar eventos\n",
    "client.loop_start()  \n",
    "\n",
    "# Definición del mensaje, en este caso usamos un mensaje simple de texto, puedes variar este texto\n",
    "mensaje = f\"Temperatura: 23.5°C\\nTS: {time.time()}\"\n",
    "\n",
    "# Publicación del mensaje en el topic especificado con el nivel de QoS definido\n",
    "client.publish(\n",
    "    topic=f\"{TOPIC}/temperatura\", \n",
    "    payload=mensaje, \n",
    "    qos=QOS_LEVEL\n",
    ")\n",
    "\n",
    "# Desconectar el cliente MQTT\n",
    "client.disconnect()\n",
    "\n",
    "# Detener el loop\n",
    "client.loop_stop()"
   ]
  },
  {
   "cell_type": "markdown",
   "id": "fcf02468",
   "metadata": {},
   "source": [
    "Debido a que en IoT es común que el contenido del mensaje sea utilizado para análisis posteriores, es recomendable utilizar un formato estructurado como JSON para los mensajes. Esto facilita la interpretación y el procesamiento de los datos en sistemas posteriores, por ejemplo, podemos cambiar el ejemplo anterior a lo siguiente:"
   ]
  },
  {
   "cell_type": "code",
   "execution_count": null,
   "id": "cf7a6b31",
   "metadata": {},
   "outputs": [],
   "source": [
    "# Conexión al broker MQTT\n",
    "client.connect(\n",
    "    host=BROKER_ADDRESS, \n",
    "    port=PORT,\n",
    "    keepalive=60\n",
    ")\n",
    "\n",
    "# Iniciar el loop para procesar eventos\n",
    "client.loop_start()  \n",
    "\n",
    "# Definición del mensaje, en este caso lo definimos como un diccionario y luego lo convertimos a JSON\n",
    "mensaje = {\n",
    "    \"value\": 23.5,\n",
    "    \"unit\": \"°C\",\n",
    "    \"timestamp\": time.time()\n",
    "}\n",
    "\n",
    "# Publicación del mensaje en el topic especificado con el nivel de QoS definido\n",
    "client.publish(\n",
    "    topic=f\"{TOPIC}/temperatura\", \n",
    "    payload=json.dumps(mensaje), \n",
    "    qos=QOS_LEVEL\n",
    ")\n",
    "\n",
    "# Desconectar el cliente MQTT\n",
    "client.disconnect()\n",
    "\n",
    "# Detener el loop\n",
    "client.loop_stop()"
   ]
  },
  {
   "cell_type": "markdown",
   "id": "29a92af6",
   "metadata": {},
   "source": [
    "### 2.2. Simulación de un sensor\n",
    "\n",
    "En el siguiente ejercicio, vamos a simular un sensor que envía datos de temperatura y humedad cada 3 segundos. \n",
    "En la carpeta de este projecto, hay un archivo llamado `sensor.py` que contiene el código necesario para esta simulación. Puedes abrirlo y revisarlo para entender cómo funciona.\n",
    "\n",
    "Para visualizar los mensajes que envía este sensor, asegúrate de tener el MQTT Explorer abierto y suscrito al topic `iot/workshop/sensor/sala1/#`, y ejecuta el siguiente bloque de código.\n"
   ]
  },
  {
   "cell_type": "code",
   "execution_count": null,
   "id": "ca2fa55a",
   "metadata": {},
   "outputs": [],
   "source": [
    "measures = [\n",
    "    # Nombre medida, unidad, valor mínimo, valor máximo\n",
    "    (\"temperatura\", \"°C\", 20, 25), \n",
    "    (\"humidity\", \"%\", 30, 50) \n",
    "]"
   ]
  },
  {
   "cell_type": "code",
   "execution_count": null,
   "id": "006949e1",
   "metadata": {},
   "outputs": [],
   "source": [
    "from sensor import generar_datos_sensor\n",
    "\n",
    "# Conexión al broker MQTT\n",
    "client.connect(\n",
    "    host=BROKER_ADDRESS, \n",
    "    port=PORT,\n",
    "    keepalive=60\n",
    ")\n",
    "\n",
    "# Iniciar el loop para procesar eventos\n",
    "client.loop_start()  \n",
    "\n",
    "while True:\n",
    "    try:\n",
    "        for nombre, unidad, vmin, vmax in measures:\n",
    "            valor = generar_datos_sensor(nombre, vmin, vmax)\n",
    "            \n",
    "            mensaje = {\n",
    "                \"value\": valor,\n",
    "                \"unidad\": unidad,\n",
    "                \"timestamp\": time.time()\n",
    "            }\n",
    "            \n",
    "            # Publicación del mensaje en el topic especificado con el nivel de QoS definido\n",
    "            client.publish(\n",
    "                topic=f\"{TOPIC}/{nombre}\", \n",
    "                payload=json.dumps(mensaje), \n",
    "                qos=QOS_LEVEL\n",
    "            )\n",
    "            \n",
    "        time.sleep(3)  # Esperar 3 segundos antes de enviar la siguiente medida\n",
    "    except KeyboardInterrupt:\n",
    "        break\n",
    "\n",
    "# Desconectar el cliente MQTT\n",
    "client.disconnect()\n",
    "client.loop_stop()"
   ]
  },
  {
   "cell_type": "markdown",
   "id": "89078352",
   "metadata": {},
   "source": [
    "### 2.3. Prueba con más valores\n",
    "\n",
    "En el archivo `medidas_pruebas.csv` tenemos una colección de medidas que podríamos simular en un entorno IoT. Cada fila del archivo contiene el nombre de la medida, la unidad, el valor mínimo y el valor máximo.\n",
    "\n",
    "Puedes abrir el archivo `medidas_pruebas.csv` y revisar su contenido. Luego, puedes modificar el bloque de código anterior para que envíe datos para cada una de estas medidas, en lugar de solo temperatura y humedad.\n",
    "\n",
    "Si ocupas cargar el archivo CSV, puedes utilizar el siguiente bloque de código como referencia:"
   ]
  },
  {
   "cell_type": "code",
   "execution_count": null,
   "id": "9ce63477",
   "metadata": {},
   "outputs": [],
   "source": [
    "import csv\n",
    "\n",
    "with open(\"/home/jovyan/work/medidas_pruebas.csv\", mode='r') as file:\n",
    "    reader = csv.reader(file)\n",
    "    measures = list(reader)\n",
    "\n",
    "measures = [(name, unit, float(vmin), float(vmax)) for name, unit, vmin, vmax in measures[1:]] # Omitir la cabecera\n",
    "\n",
    "print(f\"Cargadas {len(measures)} medidas de prueba\")"
   ]
  },
  {
   "cell_type": "markdown",
   "id": "9fd88813",
   "metadata": {},
   "source": [
    "# 3. Node-RED\n",
    "\n",
    "Node-RED es una herramienta de desarrollo basada en flujo, ideal para conectar dispositivos de hardware, APIs y servicios en línea de nuevas maneras. Proporciona un entorno visual para programar mediante la conexión de bloques funcionales llamados \"nodos\".\n",
    "\n",
    "En la siguiente etapa de este taller, vamos a utilizar Node-RED para suscribirnos a los mensajes que estamos enviando al broker MQTT y procesarlos de alguna manera.\n",
    "\n",
    "Tienes acceso a la presentación de Node-RED por medio del siguiente enlace: \n",
    "\n",
    "[https://docs.google.com/presentation/d/10JEMlOmMqKfLAdnGXZqYSK0AzVqW7HDctlsPz-MMQuQ/edit?usp=sharing](https://docs.google.com/presentation/d/10JEMlOmMqKfLAdnGXZqYSK0AzVqW7HDctlsPz-MMQuQ/edit?usp=sharing)\n",
    "\n",
    "Para la configuración de Node-RED, toma como referencia las siguiente imágenes:\n",
    "\n",
    "## 3.1. Configuración del nodo MQTT\n",
    "\n",
    "![Configuración del nodo MQTT](../images/mqtt_config.jpg)\n",
    "\n",
    "## 3.2. Instalación del complemento para Email\n",
    "\n",
    "![Instalación Email](../images/email_installation.jpg)\n",
    "\n",
    "## 3.3. Configuración del nodo Email\n",
    "\n",
    "![Configuración Email](../images/email_config.jpg)"
   ]
  }
 ],
 "metadata": {
  "kernelspec": {
   "display_name": "Python 3 (ipykernel)",
   "language": "python",
   "name": "python3"
  },
  "language_info": {
   "codemirror_mode": {
    "name": "ipython",
    "version": 3
   },
   "file_extension": ".py",
   "mimetype": "text/x-python",
   "name": "python",
   "nbconvert_exporter": "python",
   "pygments_lexer": "ipython3",
   "version": "3.11.6"
  }
 },
 "nbformat": 4,
 "nbformat_minor": 5
}
