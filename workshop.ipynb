{
 "cells": [
  {
   "cell_type": "markdown",
   "id": "07d55cde",
   "metadata": {
    "vscode": {
     "languageId": "plaintext"
    }
   },
   "source": [
    "# Workshop MQTT - IoT\n",
    "## Taller práctico de MQTT aplicado a IoT\n",
    "\n",
    "### Objetivo del Taller\n",
    "Ofrecer a los participantes una comprensión fundamental de los protocolos de comunicación en el Internet de las Cosas (IoT), con un enfoque práctico en MQTT. Al finalizar, los asistentes podrán entender la arquitectura de MQTT, sus componentes principales y cómo implementar una comunicación básica entre dispositivos utilizando Python."
   ]
  },
  {
   "cell_type": "markdown",
   "id": "f1a59e63",
   "metadata": {},
   "source": [
    "## 1. Preparación del Taller \n",
    "\n",
    "### 1.1. Ejecución del MQTT Broker\n",
    "\n",
    "Utilizaremos la herramienta Docker para desplegar un broker MQTT localmente. Si no tienes Docker instalado, puedes descargarlo desde [aquí](https://www.docker.com/get-started).\n",
    "\n",
    "Las siguientes son algunas opciones de brokers MQTT que puedes utilizar:\n",
    "\n",
    "- [Eclipse Mosquitto](https://mosquitto.org/): Un broker MQTT de código abierto y ligero.\n",
    "- [HiveMQ](https://www.hivemq.com/): Un broker MQTT comercial que ofrece una versión comunitaria.\n",
    "- [EMQX](https://www.emqx.io/): Un broker MQTT escalable y de alto rendimiento.\n",
    "- [NanoMQ](https://nanomq.io/): Un broker MQTT ultraligero diseñado para dispositivos IoT.\n",
    "\n",
    "Para esta taller utilizaremos NanoMQ:"
   ]
  },
  {
   "cell_type": "code",
   "execution_count": null,
   "id": "0babebc7-4086-4823-b332-9d33fcfc706e",
   "metadata": {},
   "outputs": [],
   "source": [
    "# Ejecuta el siguiente comando para iniciar un contenedor Docker con NanoMQ\n",
    "\n",
    "!docker run -it -d --rm -p 1883:1883 --name mqtt-broker nanomq:latest-slim"
   ]
  },
  {
   "cell_type": "markdown",
   "id": "8ec15f7f",
   "metadata": {},
   "source": [
    "Con el docker instalado, puedes probar la conexión utilizando el programa MQTT Explorer, disponible en [aquí](https://mqtt-explorer.com/).\n",
    "\n",
    "Configura la conexión al broker con los siguientes parámetros:\n",
    "\n",
    "- Host: `localhost`\n",
    "- Puerto: `1883`\n",
    "- Usuario: (dejar en blanco) o `admin`\n",
    "- Contraseña: (dejar en blanco) o `admin`\n",
    "\n",
    "![mqtt-explorer](./images/image_001.png)"
   ]
  },
  {
   "cell_type": "markdown",
   "id": "cc4b9ec9",
   "metadata": {},
   "source": [
    "### 1.2. Preparación del Entorno Python\n",
    "\n",
    "Para este taller ocupamos algunas dependencias de Python, para trabajar con el protocolo MQTT. Esas dependencias están listadas en el archivo `requirements.txt`. Para instalarlas todas las dependencias dejaremos que el comando `pip` lea el archivo e instale todo lo necesario.\n",
    "\n",
    "Ejecuta el siguiente bloque."
   ]
  },
  {
   "cell_type": "code",
   "execution_count": null,
   "id": "b5205af6",
   "metadata": {},
   "outputs": [],
   "source": [
    "%pip install -r requirements.txt"
   ]
  },
  {
   "cell_type": "markdown",
   "id": "653ccade",
   "metadata": {},
   "source": [
    "## 2. Manos a la obra\n",
    "\n",
    "### 2.1. Enviar un mensaje a MQTT\n",
    "\n",
    "El siguiente bloque de código envía un mensaje al broker MQTT en el topic `iot/workshop/sensor/sala1/temperatura`. Puedes ejecutar el bloque varias veces para enviar múltiples mensajes. Recuerda mantener el MQTT Explorer abierto para ver los mensajes que se publican.\n",
    "\n",
    "En el MQTT Explorer, te puedes suscribir al topic `iot/workshop/sensor/sala1/#` para ver todos los mensajes publicados en los subtopics de `sala1`, el caracter `#` es un comodín que indica \"todos los subtopics\"."
   ]
  },
  {
   "cell_type": "code",
   "execution_count": null,
   "id": "7e6c265f",
   "metadata": {},
   "outputs": [],
   "source": [
    "# Importación de la librería Paho-MQTT\n",
    "import paho.mqtt.client as mqtt\n",
    "import time\n",
    "\n",
    "# --- Configuración del Cliente MQTT ---\n",
    "BROKER_ADDRESS = \"127.0.0.1\"\n",
    "PORT = 1883\n",
    "QOS_LEVEL = 1  # 0 = At most once, 1 = At least once, 2 = Exactly once\n",
    "TOPIC = \"iot/workshop/sensor/sala1/temperatura\"\n",
    "\n",
    "# Inicialización del cliente MQTT, en versión MQTT 3.1.1\n",
    "client = mqtt.Client(protocol=mqtt.MQTTv311)\n",
    "\n",
    "# Conexión al broker MQTT\n",
    "client.connect(BROKER_ADDRESS, PORT, 60)\n",
    "\n",
    "# Definición del mensaje, en este caso usamos un mensaje simple de texto, puedes variar este texto\n",
    "mensaje = f\"Temperatura: 23.5°C\\nTS: {time.time()}\"\n",
    "\n",
    "# Publicación del mensaje en el topic especificado con el nivel de QoS definido\n",
    "client.publish(TOPIC, mensaje, qos=QOS_LEVEL)\n",
    "\n",
    "# Desconectar el cliente MQTT\n",
    "client.disconnect()"
   ]
  },
  {
   "cell_type": "markdown",
   "id": "fcf02468",
   "metadata": {},
   "source": [
    "Debido a que en IoT es común que el contenido del mensaje sea utilizado para análisis posteriores, es recomendable utilizar un formato estructurado como JSON para los mensajes. Esto facilita la interpretación y el procesamiento de los datos en sistemas posteriores, por ejemplo, podemos cambiar el ejemplo anterior a lo siguiente:"
   ]
  },
  {
   "cell_type": "code",
   "execution_count": null,
   "id": "cf7a6b31",
   "metadata": {},
   "outputs": [],
   "source": [
    "# Importación de la librería Paho-MQTT\n",
    "import paho.mqtt.client as mqtt\n",
    "import time\n",
    "import json\n",
    "\n",
    "# --- Configuración del Cliente MQTT ---\n",
    "BROKER_ADDRESS = \"127.0.0.1\"\n",
    "PORT = 1883\n",
    "QOS_LEVEL = 1  # 0 = At most once, 1 = At least once, 2 = Exactly once\n",
    "TOPIC = \"iot/workshop/sensor/sala1/temperatura\"\n",
    "\n",
    "# Inicialización del cliente MQTT, en versión MQTT 3.1.1\n",
    "client = mqtt.Client(protocol=mqtt.MQTTv311)\n",
    "\n",
    "# Conexión al broker MQTT\n",
    "client.connect(BROKER_ADDRESS, PORT, 60)\n",
    "\n",
    "# Definición del mensaje, en este caso lo definimos como un diccionario y luego lo convertimos a JSON\n",
    "mensaje = {\n",
    "    \"temperatura\": 23.5,\n",
    "    \"unidad\": \"°C\",\n",
    "    \"timestamp\": time.time()\n",
    "}\n",
    "\n",
    "# Publicación del mensaje en el topic especificado con el nivel de QoS definido\n",
    "client.publish(TOPIC, json.dumps(mensaje), qos=QOS_LEVEL)\n",
    "\n",
    "# Desconectar el cliente MQTT\n",
    "client.disconnect()"
   ]
  }
 ],
 "metadata": {
  "kernelspec": {
   "display_name": "Python 3 (ipykernel)",
   "language": "python",
   "name": "python3"
  },
  "language_info": {
   "codemirror_mode": {
    "name": "ipython",
    "version": 3
   },
   "file_extension": ".py",
   "mimetype": "text/x-python",
   "name": "python",
   "nbconvert_exporter": "python",
   "pygments_lexer": "ipython3",
   "version": "3.13.5"
  }
 },
 "nbformat": 4,
 "nbformat_minor": 5
}
