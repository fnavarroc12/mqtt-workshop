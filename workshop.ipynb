{
 "cells": [
  {
   "cell_type": "markdown",
   "id": "07d55cde",
   "metadata": {
    "vscode": {
     "languageId": "plaintext"
    }
   },
   "source": [
    "# Workshop MQTT - IoT\n",
    "## Taller práctico de MQTT aplicado a IoT\n",
    "\n",
    "### Objetivo del Taller\n",
    "Ofrecer a los participantes una comprensión fundamental de los protocolos de comunicación en el Internet de las Cosas (IoT), con un enfoque práctico en MQTT. Al finalizar, los asistentes podrán entender la arquitectura de MQTT, sus componentes principales y cómo implementar una comunicación básica entre dispositivos utilizando Python."
   ]
  },
  {
   "cell_type": "markdown",
   "id": "f1a59e63",
   "metadata": {},
   "source": [
    "### Instalación de MQTT Broker\n",
    "\n",
    "Utilizaremos la herramienta Docker para desplegar un broker MQTT localmente. Si no tienes Docker instalado, puedes descargarlo desde [aquí](https://www.docker.com/get-started).\n",
    "\n",
    "Las siguientes son algunas opciones de brokers MQTT que puedes utilizar:\n",
    "\n",
    "- [Eclipse Mosquitto](https://mosquitto.org/): Un broker MQTT de código abierto y ligero.\n",
    "- [HiveMQ](https://www.hivemq.com/): Un broker MQTT comercial que ofrece una versión comunitaria.\n",
    "- [EMQX](https://www.emqx.io/): Un broker MQTT escalable y de alto rendimiento.\n",
    "- [NanoMQ](https://nanomq.io/): Un broker MQTT ultraligero diseñado para dispositivos IoT.\n",
    "\n",
    "Para esta taller elige solamente uno de los brokers intalados, ejecutando una de las siguientes líneas en tu terminal:"
   ]
  },
  {
   "cell_type": "code",
   "execution_count": null,
   "id": "59219651",
   "metadata": {
    "vscode": {
     "languageId": "bat"
    }
   },
   "outputs": [],
   "source": [
    "# OPCION 1: Ejecutar Eclipse Mosquitto\n",
    "docker run -it -p 1883:1883 -p 9001:9001 --name mqtt-broker eclipse-mosquitto"
   ]
  },
  {
   "cell_type": "code",
   "execution_count": null,
   "id": "b5205af6",
   "metadata": {},
   "outputs": [],
   "source": [
    "# Primer paso - Instalar las dependencias de Python listadas en requirements.txt\n",
    "%pip install -r requirements.txt"
   ]
  },
  {
   "cell_type": "markdown",
   "id": "3ff69bf8",
   "metadata": {
    "vscode": {
     "languageId": "plaintext"
    }
   },
   "source": [
    "# "
   ]
  }
 ],
 "metadata": {
  "language_info": {
   "name": "python"
  }
 },
 "nbformat": 4,
 "nbformat_minor": 5
}
